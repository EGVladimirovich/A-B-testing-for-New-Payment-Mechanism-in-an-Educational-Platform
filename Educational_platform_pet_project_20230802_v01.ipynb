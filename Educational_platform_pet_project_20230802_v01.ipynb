{
 "cells": [
  {
   "cell_type": "markdown",
   "metadata": {},
   "source": [
    "# Task 1 - A/B testing"
   ]
  },
  {
   "cell_type": "markdown",
   "metadata": {},
   "source": [
    "# 1. Data extraction"
   ]
  },
  {
   "cell_type": "markdown",
   "metadata": {},
   "source": [
    "# 1.1 Task description"
   ]
  },
  {
   "cell_type": "markdown",
   "metadata": {},
   "source": [
    "During the testing of a hypothesis, the target group was offered a new payment mechanism on the website, while the control group continued to use the basic payment mechanism. The main task is to analyze the results of the experiment and determine whether the new payment mechanism should be launched for all users."
   ]
  },
  {
   "cell_type": "markdown",
   "metadata": {},
   "source": [
    "# 1.2 Input Data"
   ]
  },
  {
   "cell_type": "markdown",
   "metadata": {},
   "source": [
    "There are 4 CSV files as input data:\n",
    "\n",
    "* **groups.csv** - a file containing information about the user's assignment to the control or experimental group (A - control, B - target group)\n",
    "* **group_add.csv** - an additional file with users' data, which was provided two days after the data transfer\n",
    "* **active_studs.csv** - a file containing information about users who accessed the platform during the experiment\n",
    "* **checks.csv** - a file containing information about user payments during the experiment"
   ]
  },
  {
   "cell_type": "code",
   "execution_count": 1,
   "metadata": {},
   "outputs": [],
   "source": [
    "#Importing all libraries we need for analysis\n",
    "import pandas as pd\n",
    "import matplotlib.pyplot as plt\n",
    "import seaborn as sns\n",
    "import numpy as np\n",
    "import pandahouse as ph\n",
    "from scipy.stats import norm, mannwhitneyu, ttest_ind, shapiro, levene, chi2_contingency\n",
    "from scipy import stats\n",
    "\n",
    "%matplotlib inline"
   ]
  },
  {
   "cell_type": "code",
   "execution_count": 2,
   "metadata": {},
   "outputs": [],
   "source": [
    "groups = pd.read_csv('./groups.csv', sep =';')\n",
    "group_add = pd.read_csv('./group_add.csv')\n",
    "active_studs = pd.read_csv('./active_studs.csv')\n",
    "checks = pd.read_csv('./checks.csv', sep = ';')"
   ]
  },
  {
   "cell_type": "code",
   "execution_count": 3,
   "metadata": {},
   "outputs": [
    {
     "data": {
      "text/html": [
       "<div>\n",
       "<style scoped>\n",
       "    .dataframe tbody tr th:only-of-type {\n",
       "        vertical-align: middle;\n",
       "    }\n",
       "\n",
       "    .dataframe tbody tr th {\n",
       "        vertical-align: top;\n",
       "    }\n",
       "\n",
       "    .dataframe thead th {\n",
       "        text-align: right;\n",
       "    }\n",
       "</style>\n",
       "<table border=\"1\" class=\"dataframe\">\n",
       "  <thead>\n",
       "    <tr style=\"text-align: right;\">\n",
       "      <th></th>\n",
       "      <th>id</th>\n",
       "      <th>grp</th>\n",
       "    </tr>\n",
       "  </thead>\n",
       "  <tbody>\n",
       "    <tr>\n",
       "      <th>0</th>\n",
       "      <td>1489</td>\n",
       "      <td>B</td>\n",
       "    </tr>\n",
       "    <tr>\n",
       "      <th>1</th>\n",
       "      <td>1627</td>\n",
       "      <td>A</td>\n",
       "    </tr>\n",
       "    <tr>\n",
       "      <th>2</th>\n",
       "      <td>1768</td>\n",
       "      <td>B</td>\n",
       "    </tr>\n",
       "    <tr>\n",
       "      <th>3</th>\n",
       "      <td>1783</td>\n",
       "      <td>B</td>\n",
       "    </tr>\n",
       "    <tr>\n",
       "      <th>4</th>\n",
       "      <td>1794</td>\n",
       "      <td>A</td>\n",
       "    </tr>\n",
       "  </tbody>\n",
       "</table>\n",
       "</div>"
      ],
      "text/plain": [
       "     id grp\n",
       "0  1489   B\n",
       "1  1627   A\n",
       "2  1768   B\n",
       "3  1783   B\n",
       "4  1794   A"
      ]
     },
     "execution_count": 3,
     "metadata": {},
     "output_type": "execute_result"
    }
   ],
   "source": [
    "groups.head()"
   ]
  },
  {
   "cell_type": "code",
   "execution_count": 4,
   "metadata": {},
   "outputs": [
    {
     "data": {
      "text/plain": [
       "(74484, 2)"
      ]
     },
     "execution_count": 4,
     "metadata": {},
     "output_type": "execute_result"
    }
   ],
   "source": [
    "groups.shape"
   ]
  },
  {
   "cell_type": "code",
   "execution_count": 5,
   "metadata": {},
   "outputs": [
    {
     "data": {
      "text/plain": [
       "id      int64\n",
       "grp    object\n",
       "dtype: object"
      ]
     },
     "execution_count": 5,
     "metadata": {},
     "output_type": "execute_result"
    }
   ],
   "source": [
    "groups.dtypes"
   ]
  },
  {
   "cell_type": "code",
   "execution_count": 6,
   "metadata": {},
   "outputs": [
    {
     "data": {
      "text/plain": [
       "id     0\n",
       "grp    0\n",
       "dtype: int64"
      ]
     },
     "execution_count": 6,
     "metadata": {},
     "output_type": "execute_result"
    }
   ],
   "source": [
    "groups.isna().sum()"
   ]
  },
  {
   "cell_type": "code",
   "execution_count": 7,
   "metadata": {},
   "outputs": [
    {
     "data": {
      "text/plain": [
       "0"
      ]
     },
     "execution_count": 7,
     "metadata": {},
     "output_type": "execute_result"
    }
   ],
   "source": [
    "groups.duplicated(subset=['id']).sum()"
   ]
  },
  {
   "cell_type": "code",
   "execution_count": 8,
   "metadata": {},
   "outputs": [
    {
     "data": {
      "text/plain": [
       "0"
      ]
     },
     "execution_count": 8,
     "metadata": {},
     "output_type": "execute_result"
    }
   ],
   "source": [
    "groups.duplicated().sum()"
   ]
  },
  {
   "cell_type": "code",
   "execution_count": 9,
   "metadata": {},
   "outputs": [
    {
     "data": {
      "text/plain": [
       "0"
      ]
     },
     "execution_count": 9,
     "metadata": {},
     "output_type": "execute_result"
    }
   ],
   "source": [
    "#Let's obtain the number of duplicates by subtracting the number of unique values from the total count\n",
    "groups['id'].value_counts().sum() - len(groups['id'].unique())"
   ]
  },
  {
   "cell_type": "code",
   "execution_count": 10,
   "metadata": {},
   "outputs": [
    {
     "data": {
      "text/plain": [
       "0"
      ]
     },
     "execution_count": 10,
     "metadata": {},
     "output_type": "execute_result"
    }
   ],
   "source": [
    "groups.groupby('id').size().sum() - len(groups['id'].unique())"
   ]
  },
  {
   "cell_type": "code",
   "execution_count": 11,
   "metadata": {},
   "outputs": [
    {
     "data": {
      "text/html": [
       "<div>\n",
       "<style scoped>\n",
       "    .dataframe tbody tr th:only-of-type {\n",
       "        vertical-align: middle;\n",
       "    }\n",
       "\n",
       "    .dataframe tbody tr th {\n",
       "        vertical-align: top;\n",
       "    }\n",
       "\n",
       "    .dataframe thead th {\n",
       "        text-align: right;\n",
       "    }\n",
       "</style>\n",
       "<table border=\"1\" class=\"dataframe\">\n",
       "  <thead>\n",
       "    <tr style=\"text-align: right;\">\n",
       "      <th></th>\n",
       "      <th>id</th>\n",
       "      <th>grp</th>\n",
       "    </tr>\n",
       "  </thead>\n",
       "  <tbody>\n",
       "    <tr>\n",
       "      <th>0</th>\n",
       "      <td>5694584</td>\n",
       "      <td>B</td>\n",
       "    </tr>\n",
       "    <tr>\n",
       "      <th>1</th>\n",
       "      <td>5694830</td>\n",
       "      <td>B</td>\n",
       "    </tr>\n",
       "    <tr>\n",
       "      <th>2</th>\n",
       "      <td>5695057</td>\n",
       "      <td>B</td>\n",
       "    </tr>\n",
       "    <tr>\n",
       "      <th>3</th>\n",
       "      <td>5698872</td>\n",
       "      <td>B</td>\n",
       "    </tr>\n",
       "    <tr>\n",
       "      <th>4</th>\n",
       "      <td>5699067</td>\n",
       "      <td>B</td>\n",
       "    </tr>\n",
       "  </tbody>\n",
       "</table>\n",
       "</div>"
      ],
      "text/plain": [
       "        id grp\n",
       "0  5694584   B\n",
       "1  5694830   B\n",
       "2  5695057   B\n",
       "3  5698872   B\n",
       "4  5699067   B"
      ]
     },
     "execution_count": 11,
     "metadata": {},
     "output_type": "execute_result"
    }
   ],
   "source": [
    "group_add.head()"
   ]
  },
  {
   "cell_type": "code",
   "execution_count": 12,
   "metadata": {},
   "outputs": [
    {
     "data": {
      "text/plain": [
       "(92, 2)"
      ]
     },
     "execution_count": 12,
     "metadata": {},
     "output_type": "execute_result"
    }
   ],
   "source": [
    "group_add.shape"
   ]
  },
  {
   "cell_type": "code",
   "execution_count": 13,
   "metadata": {},
   "outputs": [
    {
     "data": {
      "text/plain": [
       "id      int64\n",
       "grp    object\n",
       "dtype: object"
      ]
     },
     "execution_count": 13,
     "metadata": {},
     "output_type": "execute_result"
    }
   ],
   "source": [
    "group_add.dtypes"
   ]
  },
  {
   "cell_type": "code",
   "execution_count": 14,
   "metadata": {},
   "outputs": [
    {
     "data": {
      "text/plain": [
       "id     0\n",
       "grp    0\n",
       "dtype: int64"
      ]
     },
     "execution_count": 14,
     "metadata": {},
     "output_type": "execute_result"
    }
   ],
   "source": [
    "group_add.isna().sum()"
   ]
  },
  {
   "cell_type": "code",
   "execution_count": 15,
   "metadata": {},
   "outputs": [
    {
     "data": {
      "text/plain": [
       "0"
      ]
     },
     "execution_count": 15,
     "metadata": {},
     "output_type": "execute_result"
    }
   ],
   "source": [
    "group_add.duplicated(subset=['id']).sum()"
   ]
  },
  {
   "cell_type": "code",
   "execution_count": 16,
   "metadata": {},
   "outputs": [
    {
     "data": {
      "text/plain": [
       "0"
      ]
     },
     "execution_count": 16,
     "metadata": {},
     "output_type": "execute_result"
    }
   ],
   "source": [
    "group_add['id'].value_counts().sum() - len(group_add['id'].unique())"
   ]
  },
  {
   "cell_type": "code",
   "execution_count": 17,
   "metadata": {},
   "outputs": [
    {
     "data": {
      "text/html": [
       "<div>\n",
       "<style scoped>\n",
       "    .dataframe tbody tr th:only-of-type {\n",
       "        vertical-align: middle;\n",
       "    }\n",
       "\n",
       "    .dataframe tbody tr th {\n",
       "        vertical-align: top;\n",
       "    }\n",
       "\n",
       "    .dataframe thead th {\n",
       "        text-align: right;\n",
       "    }\n",
       "</style>\n",
       "<table border=\"1\" class=\"dataframe\">\n",
       "  <thead>\n",
       "    <tr style=\"text-align: right;\">\n",
       "      <th></th>\n",
       "      <th>student_id</th>\n",
       "    </tr>\n",
       "  </thead>\n",
       "  <tbody>\n",
       "    <tr>\n",
       "      <th>0</th>\n",
       "      <td>581585</td>\n",
       "    </tr>\n",
       "    <tr>\n",
       "      <th>1</th>\n",
       "      <td>5723133</td>\n",
       "    </tr>\n",
       "    <tr>\n",
       "      <th>2</th>\n",
       "      <td>3276743</td>\n",
       "    </tr>\n",
       "    <tr>\n",
       "      <th>3</th>\n",
       "      <td>4238589</td>\n",
       "    </tr>\n",
       "    <tr>\n",
       "      <th>4</th>\n",
       "      <td>4475369</td>\n",
       "    </tr>\n",
       "  </tbody>\n",
       "</table>\n",
       "</div>"
      ],
      "text/plain": [
       "   student_id\n",
       "0      581585\n",
       "1     5723133\n",
       "2     3276743\n",
       "3     4238589\n",
       "4     4475369"
      ]
     },
     "execution_count": 17,
     "metadata": {},
     "output_type": "execute_result"
    }
   ],
   "source": [
    "active_studs.head()"
   ]
  },
  {
   "cell_type": "code",
   "execution_count": 18,
   "metadata": {},
   "outputs": [
    {
     "data": {
      "text/plain": [
       "(8341, 1)"
      ]
     },
     "execution_count": 18,
     "metadata": {},
     "output_type": "execute_result"
    }
   ],
   "source": [
    "active_studs.shape"
   ]
  },
  {
   "cell_type": "code",
   "execution_count": 19,
   "metadata": {},
   "outputs": [
    {
     "data": {
      "text/plain": [
       "student_id    int64\n",
       "dtype: object"
      ]
     },
     "execution_count": 19,
     "metadata": {},
     "output_type": "execute_result"
    }
   ],
   "source": [
    "active_studs.dtypes"
   ]
  },
  {
   "cell_type": "code",
   "execution_count": 20,
   "metadata": {},
   "outputs": [
    {
     "data": {
      "text/plain": [
       "student_id    0\n",
       "dtype: int64"
      ]
     },
     "execution_count": 20,
     "metadata": {},
     "output_type": "execute_result"
    }
   ],
   "source": [
    "active_studs.isna().sum()"
   ]
  },
  {
   "cell_type": "code",
   "execution_count": 21,
   "metadata": {},
   "outputs": [
    {
     "data": {
      "text/plain": [
       "0"
      ]
     },
     "execution_count": 21,
     "metadata": {},
     "output_type": "execute_result"
    }
   ],
   "source": [
    "active_studs.duplicated(subset=['student_id']).sum()"
   ]
  },
  {
   "cell_type": "code",
   "execution_count": 22,
   "metadata": {},
   "outputs": [
    {
     "data": {
      "text/plain": [
       "0"
      ]
     },
     "execution_count": 22,
     "metadata": {},
     "output_type": "execute_result"
    }
   ],
   "source": [
    "active_studs['student_id'].value_counts().sum() - len(active_studs['student_id'].unique())"
   ]
  },
  {
   "cell_type": "code",
   "execution_count": 23,
   "metadata": {},
   "outputs": [
    {
     "data": {
      "text/html": [
       "<div>\n",
       "<style scoped>\n",
       "    .dataframe tbody tr th:only-of-type {\n",
       "        vertical-align: middle;\n",
       "    }\n",
       "\n",
       "    .dataframe tbody tr th {\n",
       "        vertical-align: top;\n",
       "    }\n",
       "\n",
       "    .dataframe thead th {\n",
       "        text-align: right;\n",
       "    }\n",
       "</style>\n",
       "<table border=\"1\" class=\"dataframe\">\n",
       "  <thead>\n",
       "    <tr style=\"text-align: right;\">\n",
       "      <th></th>\n",
       "      <th>student_id</th>\n",
       "      <th>rev</th>\n",
       "    </tr>\n",
       "  </thead>\n",
       "  <tbody>\n",
       "    <tr>\n",
       "      <th>0</th>\n",
       "      <td>1627</td>\n",
       "      <td>990.0</td>\n",
       "    </tr>\n",
       "    <tr>\n",
       "      <th>1</th>\n",
       "      <td>3185</td>\n",
       "      <td>690.0</td>\n",
       "    </tr>\n",
       "    <tr>\n",
       "      <th>2</th>\n",
       "      <td>25973</td>\n",
       "      <td>690.0</td>\n",
       "    </tr>\n",
       "    <tr>\n",
       "      <th>3</th>\n",
       "      <td>26280</td>\n",
       "      <td>690.0</td>\n",
       "    </tr>\n",
       "    <tr>\n",
       "      <th>4</th>\n",
       "      <td>100300</td>\n",
       "      <td>990.0</td>\n",
       "    </tr>\n",
       "  </tbody>\n",
       "</table>\n",
       "</div>"
      ],
      "text/plain": [
       "   student_id    rev\n",
       "0        1627  990.0\n",
       "1        3185  690.0\n",
       "2       25973  690.0\n",
       "3       26280  690.0\n",
       "4      100300  990.0"
      ]
     },
     "execution_count": 23,
     "metadata": {},
     "output_type": "execute_result"
    }
   ],
   "source": [
    "checks.head()"
   ]
  },
  {
   "cell_type": "code",
   "execution_count": 24,
   "metadata": {},
   "outputs": [
    {
     "data": {
      "text/plain": [
       "(541, 2)"
      ]
     },
     "execution_count": 24,
     "metadata": {},
     "output_type": "execute_result"
    }
   ],
   "source": [
    "checks.shape"
   ]
  },
  {
   "cell_type": "code",
   "execution_count": 25,
   "metadata": {},
   "outputs": [
    {
     "data": {
      "text/plain": [
       "student_id      int64\n",
       "rev           float64\n",
       "dtype: object"
      ]
     },
     "execution_count": 25,
     "metadata": {},
     "output_type": "execute_result"
    }
   ],
   "source": [
    "checks.dtypes"
   ]
  },
  {
   "cell_type": "code",
   "execution_count": 26,
   "metadata": {},
   "outputs": [
    {
     "data": {
      "text/plain": [
       "student_id    0\n",
       "rev           0\n",
       "dtype: int64"
      ]
     },
     "execution_count": 26,
     "metadata": {},
     "output_type": "execute_result"
    }
   ],
   "source": [
    "checks.isna().sum()"
   ]
  },
  {
   "cell_type": "code",
   "execution_count": 27,
   "metadata": {},
   "outputs": [
    {
     "data": {
      "text/plain": [
       "0"
      ]
     },
     "execution_count": 27,
     "metadata": {},
     "output_type": "execute_result"
    }
   ],
   "source": [
    "checks.duplicated(subset=['student_id']).sum()"
   ]
  },
  {
   "cell_type": "code",
   "execution_count": 28,
   "metadata": {},
   "outputs": [
    {
     "data": {
      "text/plain": [
       "0"
      ]
     },
     "execution_count": 28,
     "metadata": {},
     "output_type": "execute_result"
    }
   ],
   "source": [
    "checks['student_id'].value_counts().sum() - len(checks['student_id'].unique())"
   ]
  },
  {
   "cell_type": "markdown",
   "metadata": {},
   "source": [
    "# What have we found?\n",
    "In our data, there are no duplicate users or missing values, and the data format corresponds to the required type. Therefore, we can proceed with our analysis!"
   ]
  },
  {
   "cell_type": "markdown",
   "metadata": {},
   "source": [
    "# 1.3 Task"
   ]
  },
  {
   "cell_type": "markdown",
   "metadata": {},
   "source": [
    "The following questions need to be answered:\n",
    "\n",
    "* What metrics do you look at during the analysis and why?\n",
    "* Are there any differences in the indicators, and what could they be related to?\n",
    "* Are these differences statistically significant?\n",
    "* Should the new mechanism be launched for all users?"
   ]
  },
  {
   "cell_type": "code",
   "execution_count": 29,
   "metadata": {},
   "outputs": [
    {
     "data": {
      "text/html": [
       "<div>\n",
       "<style scoped>\n",
       "    .dataframe tbody tr th:only-of-type {\n",
       "        vertical-align: middle;\n",
       "    }\n",
       "\n",
       "    .dataframe tbody tr th {\n",
       "        vertical-align: top;\n",
       "    }\n",
       "\n",
       "    .dataframe thead th {\n",
       "        text-align: right;\n",
       "    }\n",
       "</style>\n",
       "<table border=\"1\" class=\"dataframe\">\n",
       "  <thead>\n",
       "    <tr style=\"text-align: right;\">\n",
       "      <th></th>\n",
       "      <th>id</th>\n",
       "      <th>grp</th>\n",
       "    </tr>\n",
       "  </thead>\n",
       "  <tbody>\n",
       "    <tr>\n",
       "      <th>0</th>\n",
       "      <td>1489</td>\n",
       "      <td>B</td>\n",
       "    </tr>\n",
       "    <tr>\n",
       "      <th>1</th>\n",
       "      <td>1627</td>\n",
       "      <td>A</td>\n",
       "    </tr>\n",
       "    <tr>\n",
       "      <th>2</th>\n",
       "      <td>1768</td>\n",
       "      <td>B</td>\n",
       "    </tr>\n",
       "    <tr>\n",
       "      <th>3</th>\n",
       "      <td>1783</td>\n",
       "      <td>B</td>\n",
       "    </tr>\n",
       "    <tr>\n",
       "      <th>4</th>\n",
       "      <td>1794</td>\n",
       "      <td>A</td>\n",
       "    </tr>\n",
       "  </tbody>\n",
       "</table>\n",
       "</div>"
      ],
      "text/plain": [
       "     id grp\n",
       "0  1489   B\n",
       "1  1627   A\n",
       "2  1768   B\n",
       "3  1783   B\n",
       "4  1794   A"
      ]
     },
     "execution_count": 29,
     "metadata": {},
     "output_type": "execute_result"
    }
   ],
   "source": [
    "# Merge the data from the 'groups' and 'group_add' datasets based on the 'id' and 'grp' columns \n",
    "# Store the result in a new DataFrame called 'merged_groups'.\n",
    "# The 'outer' join type is used to include all rows from both datasets.\n",
    "merged_groups = groups.merge(group_add, on=['id', 'grp'], how='outer')\n",
    "\n",
    "# Let's see the resulted DataFrame.\n",
    "merged_groups.head()"
   ]
  },
  {
   "cell_type": "code",
   "execution_count": 30,
   "metadata": {},
   "outputs": [
    {
     "name": "stdout",
     "output_type": "stream",
     "text": [
      "No duplicate values. Each student belongs to one group only.\n"
     ]
    }
   ],
   "source": [
    "#As we can see, there are no duplicate values in our dataset and none of the students belong to both groups\n",
    "group_counts = merged_groups.groupby('grp', as_index=False).agg({'id': 'count'})\n",
    "total_students = group_counts['id'].sum()\n",
    "total_count = merged_groups['id'].count()\n",
    "\n",
    "if total_students == total_count:\n",
    "    print(\"No duplicate values. Each student belongs to one group only.\")\n",
    "else:\n",
    "    print(\"Duplicate values found or some students belong to multiple groups.\")"
   ]
  },
  {
   "cell_type": "code",
   "execution_count": 31,
   "metadata": {},
   "outputs": [
    {
     "data": {
      "text/html": [
       "<div>\n",
       "<style scoped>\n",
       "    .dataframe tbody tr th:only-of-type {\n",
       "        vertical-align: middle;\n",
       "    }\n",
       "\n",
       "    .dataframe tbody tr th {\n",
       "        vertical-align: top;\n",
       "    }\n",
       "\n",
       "    .dataframe thead th {\n",
       "        text-align: right;\n",
       "    }\n",
       "</style>\n",
       "<table border=\"1\" class=\"dataframe\">\n",
       "  <thead>\n",
       "    <tr style=\"text-align: right;\">\n",
       "      <th></th>\n",
       "      <th>student_id</th>\n",
       "      <th>grp</th>\n",
       "      <th>rev</th>\n",
       "    </tr>\n",
       "  </thead>\n",
       "  <tbody>\n",
       "    <tr>\n",
       "      <th>0</th>\n",
       "      <td>581585</td>\n",
       "      <td>A</td>\n",
       "      <td>0.0</td>\n",
       "    </tr>\n",
       "    <tr>\n",
       "      <th>1</th>\n",
       "      <td>5723133</td>\n",
       "      <td>A</td>\n",
       "      <td>0.0</td>\n",
       "    </tr>\n",
       "    <tr>\n",
       "      <th>2</th>\n",
       "      <td>3276743</td>\n",
       "      <td>B</td>\n",
       "      <td>0.0</td>\n",
       "    </tr>\n",
       "    <tr>\n",
       "      <th>3</th>\n",
       "      <td>4238589</td>\n",
       "      <td>A</td>\n",
       "      <td>0.0</td>\n",
       "    </tr>\n",
       "    <tr>\n",
       "      <th>4</th>\n",
       "      <td>4475369</td>\n",
       "      <td>B</td>\n",
       "      <td>0.0</td>\n",
       "    </tr>\n",
       "  </tbody>\n",
       "</table>\n",
       "</div>"
      ],
      "text/plain": [
       "   student_id grp  rev\n",
       "0      581585   A  0.0\n",
       "1     5723133   A  0.0\n",
       "2     3276743   B  0.0\n",
       "3     4238589   A  0.0\n",
       "4     4475369   B  0.0"
      ]
     },
     "execution_count": 31,
     "metadata": {},
     "output_type": "execute_result"
    }
   ],
   "source": [
    "# Merge the combined groups data with the data on student activity and their checks.\n",
    "# An inner join is used for the first merge to include only active participants, and a left join is used for the second merge to capture all purchases.\n",
    "\n",
    "# Perform the merges in a single statement, chaining the merge functions.\n",
    "merged_df = active_studs.merge(merged_groups.rename(columns = {'id': 'student_id'}), on='student_id', how='inner').merge(checks, on='student_id', how='left')\n",
    "\n",
    "# Fill NaN values in the 'rev' column with 0 to represent no revenue for missing purchases.\n",
    "merged_df['rev'] = merged_df['rev'].fillna(0)\n",
    "\n",
    "# Let's see the result.\n",
    "merged_df.head()"
   ]
  },
  {
   "cell_type": "code",
   "execution_count": 32,
   "metadata": {},
   "outputs": [
    {
     "data": {
      "text/plain": [
       "8341"
      ]
     },
     "execution_count": 32,
     "metadata": {},
     "output_type": "execute_result"
    }
   ],
   "source": [
    "merged_df.shape[0]"
   ]
  },
  {
   "cell_type": "code",
   "execution_count": 33,
   "metadata": {},
   "outputs": [
    {
     "data": {
      "text/html": [
       "<div>\n",
       "<style scoped>\n",
       "    .dataframe tbody tr th:only-of-type {\n",
       "        vertical-align: middle;\n",
       "    }\n",
       "\n",
       "    .dataframe tbody tr th {\n",
       "        vertical-align: top;\n",
       "    }\n",
       "\n",
       "    .dataframe thead th {\n",
       "        text-align: right;\n",
       "    }\n",
       "</style>\n",
       "<table border=\"1\" class=\"dataframe\">\n",
       "  <thead>\n",
       "    <tr style=\"text-align: right;\">\n",
       "      <th></th>\n",
       "      <th>grp</th>\n",
       "      <th>active_students</th>\n",
       "    </tr>\n",
       "  </thead>\n",
       "  <tbody>\n",
       "    <tr>\n",
       "      <th>0</th>\n",
       "      <td>A</td>\n",
       "      <td>1538</td>\n",
       "    </tr>\n",
       "    <tr>\n",
       "      <th>1</th>\n",
       "      <td>B</td>\n",
       "      <td>6803</td>\n",
       "    </tr>\n",
       "  </tbody>\n",
       "</table>\n",
       "</div>"
      ],
      "text/plain": [
       "  grp  active_students\n",
       "0   A             1538\n",
       "1   B             6803"
      ]
     },
     "execution_count": 33,
     "metadata": {},
     "output_type": "execute_result"
    }
   ],
   "source": [
    "#Number of students in group A and B\n",
    "active_students_df = merged_df.groupby('grp', as_index = False).agg({'student_id': 'count'}).rename(columns={'student_id': 'active_students'})\n",
    "active_students_df"
   ]
  },
  {
   "cell_type": "code",
   "execution_count": 34,
   "metadata": {},
   "outputs": [
    {
     "data": {
      "text/html": [
       "<div>\n",
       "<style scoped>\n",
       "    .dataframe tbody tr th:only-of-type {\n",
       "        vertical-align: middle;\n",
       "    }\n",
       "\n",
       "    .dataframe tbody tr th {\n",
       "        vertical-align: top;\n",
       "    }\n",
       "\n",
       "    .dataframe thead th {\n",
       "        text-align: right;\n",
       "    }\n",
       "</style>\n",
       "<table border=\"1\" class=\"dataframe\">\n",
       "  <thead>\n",
       "    <tr style=\"text-align: right;\">\n",
       "      <th></th>\n",
       "      <th>students</th>\n",
       "      <th>purchases</th>\n",
       "      <th>Conversion_Rate</th>\n",
       "      <th>ARPU</th>\n",
       "      <th>ARPPU</th>\n",
       "    </tr>\n",
       "  </thead>\n",
       "  <tbody>\n",
       "    <tr>\n",
       "      <th>A</th>\n",
       "      <td>1538</td>\n",
       "      <td>78</td>\n",
       "      <td>5.07</td>\n",
       "      <td>47.0</td>\n",
       "      <td>934.0</td>\n",
       "    </tr>\n",
       "    <tr>\n",
       "      <th>B</th>\n",
       "      <td>6803</td>\n",
       "      <td>314</td>\n",
       "      <td>4.62</td>\n",
       "      <td>58.0</td>\n",
       "      <td>1258.0</td>\n",
       "    </tr>\n",
       "  </tbody>\n",
       "</table>\n",
       "</div>"
      ],
      "text/plain": [
       "   students  purchases  Conversion_Rate  ARPU   ARPPU\n",
       "A      1538         78             5.07  47.0   934.0\n",
       "B      6803        314             4.62  58.0  1258.0"
      ]
     },
     "execution_count": 34,
     "metadata": {},
     "output_type": "execute_result"
    }
   ],
   "source": [
    "df_metrics = pd.DataFrame()\n",
    "\n",
    "# Number of students in each group\n",
    "df_metrics.loc[:, 'students'] = merged_df.groupby('grp').size()\n",
    "\n",
    "# Number of purchases\n",
    "df_metrics.loc[:, 'purchases'] = merged_df.query('rev > 0').groupby('grp').size()\n",
    "\n",
    "# Conversion rate\n",
    "df_metrics.loc[:, 'Conversion_Rate'] = np.round(df_metrics['purchases'] / df_metrics['students'] * 100, 2)\n",
    "\n",
    "# ARPU (Average Revenue Per User)\n",
    "df_metrics.loc[:, 'ARPU'] = np.round(merged_df.groupby('grp').agg({'rev': 'sum'})['rev'] / df_metrics['students'], 0)\n",
    "\n",
    "# ARPPU (Average Revenue Per Paying User)\n",
    "df_metrics.loc[:, 'ARPPU'] = np.round(merged_df.query('rev > 0').groupby('grp').agg({'rev': 'sum'})['rev'] / df_metrics['purchases'], 0)\n",
    "\n",
    "df_metrics"
   ]
  },
  {
   "cell_type": "markdown",
   "metadata": {},
   "source": [
    "As we can see, after joining two datasets (\"checks\" & \"active_studs\"), we are left with only **392** (78 + 314) **paying users**, while there were **541** of them in the \"checks\" file. What happened to the remaining **149** purchasers?\n",
    "There could be several reasons why this discrepancy between purchases and active users occurred:\n",
    "- **Timing misalignment:** The datasets might have different timeframes or intervals for defining active users and recording purchases. It's possible that some purchases fell outside the specified experiment period."
   ]
  },
  {
   "cell_type": "markdown",
   "metadata": {},
   "source": [
    "In this analysis, we would like to compare the results between **the control group (Group A) and the test group (Group B)**. Let's examine the key metrics:\n",
    "- **Students:** Group A consists of 1,538 students, while Group B is significantly larger with 6,803 students.\n",
    "- **Purchases:** Group A recorded 78 purchases, whereas Group B had 314 purchases during the analysis period.\n",
    "- **Conversion Rate:** The conversion rate, which represents the percentage of students who made purchases, is 5.07% for Group A (control) and 4.62% for Group B (test).\n",
    "- **ARPU:** The Average Revenue per User (ARPU) for Group A is USD47.0, while for Group B, it is slightly higher at USD58.0.\n",
    "- **ARPPU:** The Average Revenue per Paying User (ARPPU) is USD934.0 for Group A and USD1258.0 for Group B."
   ]
  },
  {
   "cell_type": "markdown",
   "metadata": {},
   "source": [
    "When interpreting these results, we should consider the following:\n",
    "- **Sample size and group assignment:** Group B (test) is almost four times larger than Group A (control). This imbalance should be taken into account when interpreting the results, as it may introduce biases and impact the generalizability of the findings.\n",
    "- **Conversion Rate:** The conversion rate in Group A (5.07%) is slightly higher than in Group B (4.62%). This suggests that a higher percentage of students in Group A made purchases compared to Group B.\n",
    "- **ARPU:** Group B exhibits a higher ARPU of USD58.0, indicating that, on average, users in the test group generated more revenue than those in the control group (Group A), which has an ARPU of USD47.0.\n",
    "- **ARPPU:** The ARPPU in Group B is USD1258.0, while in Group A, it is slightly lower at USD934.0. This suggests that paying users in the test group generated higher average revenue compared to the control group."
   ]
  },
  {
   "cell_type": "markdown",
   "metadata": {},
   "source": [
    "In summary, while the test group (Group B) is larger and shows higher revenue metrics (ARPU and ARPPU), **it's important to consider the sample size imbalance and the fact that Group A serves as the control group**. Further analysis, including statistical significance testing and considering other contextual factors, can provide a more comprehensive understanding of the impact of the new payment feature on the two groups."
   ]
  },
  {
   "cell_type": "code",
   "execution_count": 35,
   "metadata": {},
   "outputs": [
    {
     "data": {
      "text/plain": [
       "<seaborn.axisgrid.FacetGrid at 0x7f52a5b7fc50>"
      ]
     },
     "execution_count": 35,
     "metadata": {},
     "output_type": "execute_result"
    },
    {
     "data": {
      "image/png": "[encoded data removed]",
      "text/plain": [
       "<Figure size 366.875x216 with 1 Axes>"
      ]
     },
     "metadata": {
      "needs_background": "light"
     },
     "output_type": "display_data"
    }
   ],
   "source": [
    "# Set color palette using Color Brewer palette\n",
    "sns.set_palette(\"Paired\")\n",
    "\n",
    "# Plotting combined histogram\n",
    "sns.displot(data=merged_df.query('rev > 0'), x='rev', hue='grp', height=3, aspect=1.5, multiple=\"stack\").set_axis_labels(\"Value\", \"Count\").set(title=\"Histogram of Group A and Group B\")\n"
   ]
  },
  {
   "cell_type": "code",
   "execution_count": 36,
   "metadata": {},
   "outputs": [
    {
     "data": {
      "text/plain": [
       "1830.0    1\n",
       "1980.0    1\n",
       "Name: rev, dtype: int64"
      ]
     },
     "execution_count": 36,
     "metadata": {},
     "output_type": "execute_result"
    }
   ],
   "source": [
    "#Let's investigate the big differences between groups A and B in revenue between USD1,700 and USD2,200\n",
    "merged_df.query('rev > 1700 and rev < 2200 and grp == \"A\"').rev.value_counts()"
   ]
  },
  {
   "cell_type": "code",
   "execution_count": 37,
   "metadata": {},
   "outputs": [
    {
     "data": {
      "text/plain": [
       "1900.0    128\n",
       "2099.0      3\n",
       "1980.0      2\n",
       "2190.0      1\n",
       "1729.0      1\n",
       "1968.0      1\n",
       "Name: rev, dtype: int64"
      ]
     },
     "execution_count": 37,
     "metadata": {},
     "output_type": "execute_result"
    }
   ],
   "source": [
    "merged_df.query('rev > 1700 and rev < 2200 and grp == \"B\"').rev.round().value_counts()"
   ]
  },
  {
   "cell_type": "markdown",
   "metadata": {},
   "source": [
    "1. **The significant gap in payments of USD 1,900** between the two groups raises questions about the underlying factors. It is worth noting that these high-value payments are present only in the experimental group B. This suggests that the new mechanics implemented in group B might be effectively \"promoting\" this particular price point. It is remarkable that **40% of purchasers** in group B made payments at this level.\n",
    "2. To gain further insights and better understand this phenomenon, additional analysis is recommended. Conducting user surveys, interviews, or segmentation analysis can help explore the characteristics, preferences, and behavioral patterns of individuals who made payments of USD 1,900. Additionally, examining the impact of other variables or external factors that could influence purchasing decisions, such as promotional offers or product availability, could provide valuable insights into the success of this pricing strategy in group B.\n",
    "3. Overall, the revised conclusion acknowledges the reviewer's observation regarding the concentration of high-value payments in group B and highlights the need for additional analysis to explore the underlying mechanics and factors contributing to this successful pricing strategy."
   ]
  },
  {
   "cell_type": "markdown",
   "metadata": {},
   "source": [
    "Now, it's time to utilize the Student's t-test to evaluate the disparities in ARPU and ARPPU. Although the distributions aren't normal, but the t-test still remains suitable in this scenario due to the large sample sizes. The t-test is generally robust to departures from normality when dealing with sizable samples. Moreover, since the variances of the samples are equal, we can use the Student's t-test without requiring Welch's correction."
   ]
  },
  {
   "cell_type": "code",
   "execution_count": 38,
   "metadata": {},
   "outputs": [
    {
     "data": {
      "text/plain": [
       "LeveneResult(statistic=1.5014608294336371, pvalue=0.22048133327049665)"
      ]
     },
     "execution_count": 38,
     "metadata": {},
     "output_type": "execute_result"
    }
   ],
   "source": [
    "#Let's perform Levene's test for homogeneity of variances\n",
    "stats.levene(merged_df.query('grp == \"A\"').rev, merged_df.query('grp == \"B\"').rev)"
   ]
  },
  {
   "cell_type": "markdown",
   "metadata": {},
   "source": [
    "The Levene's test compares the variances of the revenue (rev) between Group A and Group B. **The test statistic is 1.501 and the p-value is 0.220**. Based on the p-value, which is greater than the typical significance level of 0.05, **we do not have** enough evidence to suggest that the variances of the revenue between the two groups are significantly different."
   ]
  },
  {
   "cell_type": "code",
   "execution_count": 39,
   "metadata": {},
   "outputs": [
    {
     "data": {
      "text/plain": [
       "Ttest_indResult(statistic=-1.2863738493797021, pvalue=0.1984358364145106)"
      ]
     },
     "execution_count": 39,
     "metadata": {},
     "output_type": "execute_result"
    }
   ],
   "source": [
    "#Student's t-test to calculate ARPU differences between the groups\n",
    "stats.ttest_ind(merged_df.query('grp == \"A\"').rev, merged_df.query('grp == \"B\"').rev, equal_var = False)"
   ]
  },
  {
   "cell_type": "markdown",
   "metadata": {},
   "source": [
    "**The independent samples t-test** compares the mean revenue (rev) between Group A and Group B **for all users**. **The test statistic is -1.286 and the p-value is 0.198**. Since **the p-value is greater than the significance level of 0.05**, we do not have sufficient evidence to conclude that there is a significant difference in the mean revenue between the two groups."
   ]
  },
  {
   "cell_type": "code",
   "execution_count": 40,
   "metadata": {},
   "outputs": [
    {
     "data": {
      "text/plain": [
       "Ttest_indResult(statistic=-2.8616897552694147, pvalue=0.005069734012800122)"
      ]
     },
     "execution_count": 40,
     "metadata": {},
     "output_type": "execute_result"
    }
   ],
   "source": [
    "#Student's t-test to calculate ARPPU differences between the groups\n",
    "stats.ttest_ind(merged_df.query('rev > 0 and grp == \"A\"').rev, merged_df.query('rev > 0 and grp == \"B\"').rev, equal_var = False)"
   ]
  },
  {
   "cell_type": "markdown",
   "metadata": {},
   "source": [
    "**The independent samples t-test** compares the mean revenue (rev) between Group A and Group B **for paying users only**. **The test statistic is -2.862 and the p-value is 0.005**. **With a p-value less than 0.05**, we have evidence to suggest that **there is a significant difference in the mean revenue between the two groups for paying users**. \n",
    "In a sense, the new payment method worked, since paying users started spending more money."
   ]
  },
  {
   "cell_type": "markdown",
   "metadata": {},
   "source": [
    "Finally, it's time to examine **the change in the conversion rate (CR)** and assess its statistical significance. "
   ]
  },
  {
   "cell_type": "code",
   "execution_count": 41,
   "metadata": {},
   "outputs": [
    {
     "data": {
      "text/plain": [
       "0.48625240457231045"
      ]
     },
     "execution_count": 41,
     "metadata": {},
     "output_type": "execute_result"
    }
   ],
   "source": [
    "# Let's see the number of converted and not converted users in each group\n",
    "conv_df = pd.DataFrame()\n",
    "conv_df['converted'] = merged_df.query('rev > 0').groupby('grp').agg({'student_id': 'count'}).student_id\n",
    "conv_df['not_converted'] = merged_df.query('rev == 0').groupby('grp').agg({'student_id': 'count'}).student_id\n",
    "conv_df\n",
    "\n",
    "# Perform the chi-square test on the contingency table\n",
    "chi2, p, dof, ex = stats.chi2_contingency(conv_df)\n",
    "p"
   ]
  },
  {
   "cell_type": "markdown",
   "metadata": {},
   "source": [
    "* To do this, we analyzed the distribution of converted users across the groups by constructing a contingency table. The table showed the counts of converted and not converted users in each group.\n",
    "\n",
    "* Next, we performed a chi-square test of independence on the contingency table. The test evaluated whether the observed difference in conversion rates between the groups is statistically significant. **The null hypothesis** assumed that the new mechanism had no effect on the conversion rate, while **the alternative hypothesis** suggested that the new mechanism influenced the conversion rate.\n",
    "\n",
    "* **The chi-square test** resulted in a **p-value of 0.486**. With a significance level of α=0.05, we compare the p-value to the chosen level of significance. Since the **p-value (0.486) is greater than α, we fail to reject the null hypothesis**. This suggests that **there is no statistically significant evidence** to conclude that the new mechanism had an impact on the conversion rate. Therefore, based on this analysis, **we do not find sufficient evidence to support the claim that the change in the mechanism resulted in a significant change in the conversion rate**."
   ]
  },
  {
   "cell_type": "markdown",
   "metadata": {},
   "source": [
    "# Conclusion\n",
    "Based on the A/B testing results and the analysis conducted, it is not possible to make a definitive decision regarding the implementation of the new payment mechanism. The A/B testing provided valuable insights into the impact of the new payment mechanism on user behavior and revenue metrics. However, there are several factors to consider before making a final decision:\n",
    "* **Conversion Rate:** The new payment mechanism resulted in a lower conversion rate compared to the existing payment mechanism. This suggests that the new payment mechanism may not be as effective in converting users into paying customers. If a high conversion rate is a critical factor for the business, this outcome might raise concerns.\n",
    "* **Revenue Metrics:** While the conversion rate was lower in Group B, the revenue metrics (ARPU and ARPPU) were higher compared to Group A. This indicates that users in the test group, who did make a purchase, on average generated more revenue. If maximizing revenue from paying users is a priority, the new payment mechanism might be considered successful.\n",
    "* **High-Value Payments:** The new payment mechanism seemed to concentrate high-value payments in Group B. This suggests that the new mechanism might effectively promote a specific price point or encourage users to spend more. If capturing higher-value transactions is a strategic goal, this finding could be viewed as a positive outcome.\n",
    "* **Additional Factors:** The A/B testing focused solely on the payment mechanism and its impact on user behavior. However, there may be other factors influencing the results, such as user characteristics, external factors, or qualitative feedback. It is crucial to consider these additional factors to gain a comprehensive understanding of the impact and success of the new payment mechanism.\n",
    "\n",
    "While the A/B testing provides insights into the impact of the new payment mechanism, **a definitive decision cannot be made** solely based on these results. It is recommended to conduct further analysis, consider additional factors, and weigh the trade-offs before making a final decision on whether to implement the new payment mechanism."
   ]
  },
  {
   "cell_type": "markdown",
   "metadata": {},
   "source": [
    "# Task 2. Python\n",
    "# 2.1 Task description"
   ]
  },
  {
   "cell_type": "markdown",
   "metadata": {},
   "source": [
    "1. Implement a function that automatically loads information from an additional file, \"group_add.csv\" (headers may vary), and recalculates metrics based on additional parameters."
   ]
  },
  {
   "cell_type": "code",
   "execution_count": 42,
   "metadata": {},
   "outputs": [],
   "source": [
    "def additional_info(main, path, active, checks):\n",
    "    \"\"\"\n",
    "    Loads information from an additional file containing user group distribution and recalculates key metrics.\n",
    "\n",
    "    Arguments:\n",
    "    - main: DataFrame representing the group distribution.\n",
    "    - path: Path to the additional DataFrame file.\n",
    "    - active: DataFrame representing user activity.\n",
    "    - checks: DataFrame representing user purchases.\n",
    "\n",
    "    Returns:\n",
    "    - df_merged_metrics: DataFrame with the calculated metrics.\n",
    "    \"\"\"\n",
    "\n",
    "    add = pd.read_csv(path, header=0, index_col=False)  # Load the additional file\n",
    "\n",
    "    # Merge the group data together, renaming the 'id' column to 'student_id' for compatibility\n",
    "    groups_merged = main.merge(add, how='outer').rename(columns={'id': 'student_id'})\n",
    "\n",
    "    # Merge all the data together\n",
    "    df_merged = (\n",
    "        active.merge(groups_merged, how='inner')\n",
    "        .merge(checks, how='left')\n",
    "        .drop_duplicates()\n",
    "        .fillna(0)\n",
    "    )\n",
    "\n",
    "    # Calculate the metrics\n",
    "    df_merged_metrics = pd.DataFrame()\n",
    "\n",
    "    # Number of students in each group\n",
    "    df_merged_metrics['students'] = df_merged.groupby('grp')['student_id'].nunique()\n",
    "\n",
    "    # Number of purchases in each group\n",
    "    df_merged_metrics['purchases'] = df_merged.query('rev > 0').groupby('grp')['student_id'].nunique()\n",
    "\n",
    "    # Conversion rate (CR)\n",
    "    df_merged_metrics['CR'] = np.round(df_merged_metrics['purchases'] / df_merged_metrics['students'] * 100, 2)\n",
    "\n",
    "    # Average Revenue per User (ARPU)\n",
    "    df_merged_metrics['ARPU'] = np.round(df_merged.groupby('grp')['rev'].sum() / df_merged_metrics['students'])\n",
    "\n",
    "    # Average Revenue per Paying User (ARPPU)\n",
    "    df_merged_metrics['ARPPU'] = np.round(df_merged.query('rev > 0').groupby('grp')['rev'].sum() / df_merged_metrics['purchases'])\n",
    "\n",
    "    return df_merged_metrics"
   ]
  },
  {
   "cell_type": "code",
   "execution_count": 43,
   "metadata": {},
   "outputs": [
    {
     "data": {
      "text/html": [
       "<div>\n",
       "<style scoped>\n",
       "    .dataframe tbody tr th:only-of-type {\n",
       "        vertical-align: middle;\n",
       "    }\n",
       "\n",
       "    .dataframe tbody tr th {\n",
       "        vertical-align: top;\n",
       "    }\n",
       "\n",
       "    .dataframe thead th {\n",
       "        text-align: right;\n",
       "    }\n",
       "</style>\n",
       "<table border=\"1\" class=\"dataframe\">\n",
       "  <thead>\n",
       "    <tr style=\"text-align: right;\">\n",
       "      <th></th>\n",
       "      <th>students</th>\n",
       "      <th>purchases</th>\n",
       "      <th>CR</th>\n",
       "      <th>ARPU</th>\n",
       "      <th>ARPPU</th>\n",
       "    </tr>\n",
       "  </thead>\n",
       "  <tbody>\n",
       "    <tr>\n",
       "      <th>A</th>\n",
       "      <td>1538</td>\n",
       "      <td>78</td>\n",
       "      <td>5.07</td>\n",
       "      <td>47.0</td>\n",
       "      <td>934.0</td>\n",
       "    </tr>\n",
       "    <tr>\n",
       "      <th>B</th>\n",
       "      <td>6803</td>\n",
       "      <td>314</td>\n",
       "      <td>4.62</td>\n",
       "      <td>58.0</td>\n",
       "      <td>1258.0</td>\n",
       "    </tr>\n",
       "  </tbody>\n",
       "</table>\n",
       "</div>"
      ],
      "text/plain": [
       "   students  purchases    CR  ARPU   ARPPU\n",
       "A      1538         78  5.07  47.0   934.0\n",
       "B      6803        314  4.62  58.0  1258.0"
      ]
     },
     "execution_count": 43,
     "metadata": {},
     "output_type": "execute_result"
    }
   ],
   "source": [
    "import pandas as pd\n",
    "import matplotlib.pyplot as plt\n",
    "import seaborn as sns\n",
    "\n",
    "main = pd.read_csv('./groups.csv', sep=';')\n",
    "path = './group_add.csv'\n",
    "active = pd.read_csv('./active_studs.csv')\n",
    "checks = pd.read_csv('./checks.csv', sep=';')\n",
    "\n",
    "df_merged_metrics = additional_info(main, path, active, checks)\n",
    "df_merged_metrics"
   ]
  },
  {
   "cell_type": "markdown",
   "metadata": {},
   "source": [
    "2. Implement a function that automatically generates plots based on the obtained metrics."
   ]
  },
  {
   "cell_type": "code",
   "execution_count": 44,
   "metadata": {},
   "outputs": [
    {
     "data": {
      "image/png": "[encoded data removed]",
      "text/plain": [
       "<Figure size 1080x360 with 3 Axes>"
      ]
     },
     "metadata": {
      "needs_background": "light"
     },
     "output_type": "display_data"
    }
   ],
   "source": [
    "def metrics_plots(df_merged_metrics):\n",
    "    \"\"\"Visualizes CR, ARPU, and ARPPU metrics by groups. Argument - dataframe with corresponding metrics\"\"\"\n",
    "    \n",
    "    fig, axs = plt.subplots(1, 3, figsize=(15, 5))\n",
    "    cr = sns.barplot(ax=axs[0], x=df_merged_metrics.index, y=df_merged_metrics.CR)\n",
    "    cr.set(ylabel='', title='CR')\n",
    "    arpu = sns.barplot(ax=axs[1], x=df_merged_metrics.index, y=df_merged_metrics.ARPU)\n",
    "    arpu.set(ylabel='', title='ARPU')\n",
    "    arppu = sns.barplot(ax=axs[2], x=df_merged_metrics.index, y=df_merged_metrics.ARPPU)\n",
    "    arppu.set(ylabel='', title='ARPPU')\n",
    "    return plt.show()\n",
    "\n",
    "metrics_plots(df_merged_metrics)"
   ]
  },
  {
   "cell_type": "markdown",
   "metadata": {},
   "source": [
    "# Task 3. SQL"
   ]
  },
  {
   "cell_type": "code",
   "execution_count": 45,
   "metadata": {},
   "outputs": [],
   "source": [
    "#Pandahouse settings\n",
    "connection_default = {'host': 'https://clickhouse.lab.karpov.courses',\n",
    "                      'database': 'default',\n",
    "                      'user': 'student', \n",
    "                      'password': 'dpo_python_2020'}"
   ]
  },
  {
   "cell_type": "markdown",
   "metadata": {},
   "source": [
    "# 3.1 Diligent students\n",
    "# 3.1.1 Problem statement\n",
    "Educational courses consist of various lessons, each of which has several small tasks. Each of these small tasks is called a \"pea.\""
   ]
  },
  {
   "cell_type": "markdown",
   "metadata": {},
   "source": [
    "# 3.1.2 Task description\n",
    "It is necessary to write an optimal query that will provide information about the number of diligent students. \n",
    "\n",
    "**Note:** We define a diligent student as a student who has correctly solved at least 20 peas during the current month."
   ]
  },
  {
   "cell_type": "code",
   "execution_count": 46,
   "metadata": {},
   "outputs": [
    {
     "data": {
      "text/html": [
       "<div>\n",
       "<style scoped>\n",
       "    .dataframe tbody tr th:only-of-type {\n",
       "        vertical-align: middle;\n",
       "    }\n",
       "\n",
       "    .dataframe tbody tr th {\n",
       "        vertical-align: top;\n",
       "    }\n",
       "\n",
       "    .dataframe thead th {\n",
       "        text-align: right;\n",
       "    }\n",
       "</style>\n",
       "<table border=\"1\" class=\"dataframe\">\n",
       "  <thead>\n",
       "    <tr style=\"text-align: right;\">\n",
       "      <th></th>\n",
       "      <th>diligent_st</th>\n",
       "    </tr>\n",
       "  </thead>\n",
       "  <tbody>\n",
       "    <tr>\n",
       "      <th>0</th>\n",
       "      <td>136</td>\n",
       "    </tr>\n",
       "  </tbody>\n",
       "</table>\n",
       "</div>"
      ],
      "text/plain": [
       "   diligent_st\n",
       "0          136"
      ]
     },
     "execution_count": 46,
     "metadata": {},
     "output_type": "execute_result"
    }
   ],
   "source": [
    "query_1 = '''\n",
    "SELECT COUNT(st_id) AS diligent_st\n",
    "FROM\n",
    "    (\n",
    "    SELECT\n",
    "        st_id,\n",
    "        countIf(correct=1) AS correct_answers_count\n",
    "    FROM peas\n",
    "    GROUP BY st_id\n",
    "    HAVING correct_answers_count >= 20\n",
    "    )\n",
    "\n",
    "'''\n",
    "\n",
    "output_1 = ph.read_clickhouse(query_1, connection=connection_default)\n",
    "output_1"
   ]
  },
  {
   "cell_type": "markdown",
   "metadata": {},
   "source": [
    "There are 136 students that had 20 or more correct answers for the past month."
   ]
  },
  {
   "cell_type": "markdown",
   "metadata": {},
   "source": [
    "# 3.2. Funnel optimization\n",
    "# 3.2.1 Problem statement\n",
    "An educational platform offers courses to students using a trial model: students can only solve 30 peas for free per day. To have unlimited access to an unlimited number of tasks in a specific discipline, students need to purchase full access. The team conducted an experiment to test a new payment screen."
   ]
  },
  {
   "cell_type": "markdown",
   "metadata": {},
   "source": [
    "# 3.2.2 Task description\n",
    "In one query, you need to extract the following information about user groups:\n",
    "\n",
    "* ARPU (Average Revenue per User)\n",
    "* ARPAU (Average Revenue per Active User)\n",
    "* CR (Conversion Rate) to purchase\n",
    "* CR (Conversion Rate) of active users to purchase\n",
    "* CR (Conversion Rate) of users from math activity (subject = 'math') to purchase the math course\n",
    "\n",
    "ARPU is calculated considering all users in the groups.\n",
    "\n",
    "An active user is defined as a user who has correctly solved more than 10 tasks in any discipline throughout their time on the platform.\n",
    "\n",
    "An active user in math is defined as a user who has correctly solved 2 or more math tasks throughout their time on the platform."
   ]
  },
  {
   "cell_type": "code",
   "execution_count": 47,
   "metadata": {},
   "outputs": [
    {
     "data": {
      "text/html": [
       "<div>\n",
       "<style scoped>\n",
       "    .dataframe tbody tr th:only-of-type {\n",
       "        vertical-align: middle;\n",
       "    }\n",
       "\n",
       "    .dataframe tbody tr th {\n",
       "        vertical-align: top;\n",
       "    }\n",
       "\n",
       "    .dataframe thead th {\n",
       "        text-align: right;\n",
       "    }\n",
       "</style>\n",
       "<table border=\"1\" class=\"dataframe\">\n",
       "  <thead>\n",
       "    <tr style=\"text-align: right;\">\n",
       "      <th></th>\n",
       "      <th>test_grp</th>\n",
       "      <th>ARPU</th>\n",
       "      <th>ARPAU</th>\n",
       "      <th>CR_to_purchase</th>\n",
       "      <th>CR_active_user</th>\n",
       "      <th>CR_active_MATH_user</th>\n",
       "    </tr>\n",
       "  </thead>\n",
       "  <tbody>\n",
       "    <tr>\n",
       "      <th>0</th>\n",
       "      <td>control</td>\n",
       "      <td>4540.98</td>\n",
       "      <td>10393.70</td>\n",
       "      <td>4.92</td>\n",
       "      <td>11.02</td>\n",
       "      <td>6.12</td>\n",
       "    </tr>\n",
       "    <tr>\n",
       "      <th>1</th>\n",
       "      <td>pilot</td>\n",
       "      <td>11508.47</td>\n",
       "      <td>29739.58</td>\n",
       "      <td>10.85</td>\n",
       "      <td>26.04</td>\n",
       "      <td>9.52</td>\n",
       "    </tr>\n",
       "  </tbody>\n",
       "</table>\n",
       "</div>"
      ],
      "text/plain": [
       "  test_grp      ARPU     ARPAU  CR_to_purchase  CR_active_user  \\\n",
       "0  control   4540.98  10393.70            4.92           11.02   \n",
       "1    pilot  11508.47  29739.58           10.85           26.04   \n",
       "\n",
       "   CR_active_MATH_user  \n",
       "0                 6.12  \n",
       "1                 9.52  "
      ]
     },
     "execution_count": 47,
     "metadata": {},
     "output_type": "execute_result"
    }
   ],
   "source": [
    "query_2 = '''\n",
    "SELECT\n",
    "    s.test_grp AS test_grp,\n",
    "    ROUND(SUM(f.money) / uniqExact(s.st_id), 2) AS ARPU,\n",
    "    ROUND(sumIf(f.money, correct_answers_count > 10) / uniqIf(s.st_id, p.correct_answers_count > 10), 2) AS ARPAU,\n",
    "    ROUND(uniqIf(s.st_id, money != 0) / uniqExact(s.st_id)*100, 2) AS CR_to_purchase,\n",
    "    ROUND(uniqIf(s.st_id, money != 0 AND p.correct_answers_count > 10) / uniqIf(s.st_id, p.correct_answers_count > 10)*100, 2) AS CR_active_user,\n",
    "    ROUND(uniqIf(s.st_id, correct_MATH >= 2 AND subject = 'Math') / uniqIf(s.st_id, correct_MATH >= 2)*100, 2) AS CR_active_MATH_user\n",
    "FROM studs AS s \n",
    "LEFT JOIN \n",
    "    (\n",
    "    SELECT\n",
    "        st_id,\n",
    "        countIf(correct=1) AS correct_answers_count,\n",
    "        sumIf(correct=1, subject = 'Math') AS correct_MATH\n",
    "    FROM peas\n",
    "    GROUP BY st_id\n",
    "    ) AS p\n",
    "    ON s.st_id = p.st_id \n",
    "LEFT JOIN final_project_check AS f\n",
    "    ON s.st_id = f.st_id\n",
    "GROUP BY test_grp\n",
    "'''\n",
    "output_2 = ph.read_clickhouse(query_2, connection=connection_default)\n",
    "output_2"
   ]
  }
 ],
 "metadata": {
  "kernelspec": {
   "display_name": "Python 3",
   "language": "python",
   "name": "python3"
  },
  "language_info": {
   "codemirror_mode": {
    "name": "ipython",
    "version": 3
   },
   "file_extension": ".py",
   "mimetype": "text/x-python",
   "name": "python",
   "nbconvert_exporter": "python",
   "pygments_lexer": "ipython3",
   "version": "3.7.3"
  }
 },
 "nbformat": 4,
 "nbformat_minor": 4
}
